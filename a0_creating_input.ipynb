{
 "cells": [
  {
   "cell_type": "code",
   "execution_count": 2,
   "metadata": {},
   "outputs": [],
   "source": [
    "import pandas as pd"
   ]
  },
  {
   "cell_type": "code",
   "execution_count": 3,
   "metadata": {},
   "outputs": [
    {
     "name": "stderr",
     "output_type": "stream",
     "text": [
      "/var/folders/3k/pkvqy3vn37j208xxcsy4gj0m0000gn/T/ipykernel_93124/2339043735.py:2: DtypeWarning: Columns (7,11) have mixed types. Specify dtype option on import or set low_memory=False.\n",
      "  input_pd = pd.read_csv(input, delimiter=\",\")\n"
     ]
    }
   ],
   "source": [
    "input = \"seven_sons2013-2022.csv\"\n",
    "input_pd = pd.read_csv(input, delimiter=\",\")"
   ]
  },
  {
   "cell_type": "code",
   "execution_count": 6,
   "metadata": {},
   "outputs": [
    {
     "name": "stdout",
     "output_type": "stream",
     "text": [
      "0                      Beijing Institute of Technology\n",
      "1                      Beijing Institute of Technology\n",
      "2                      Beijing Institute of Technology\n",
      "3    Beijing Institute of Technology; Beijing Insti...\n",
      "4                      Beijing Institute of Technology\n",
      "Name: Affiliations, dtype: object\n"
     ]
    }
   ],
   "source": [
    "print(input_pd[\"Affiliations\"].head())"
   ]
  },
  {
   "cell_type": "code",
   "execution_count": 9,
   "metadata": {},
   "outputs": [],
   "source": [
    "# save input_pd[\"Affiliations\"] to input_10y.txt\n",
    "input_pd[\"Affiliations\"].to_csv('input_10y.txt', index=False, encoding='utf-8', header=False)"
   ]
  }
 ],
 "metadata": {
  "kernelspec": {
   "display_name": "base",
   "language": "python",
   "name": "python3"
  },
  "language_info": {
   "codemirror_mode": {
    "name": "ipython",
    "version": 3
   },
   "file_extension": ".py",
   "mimetype": "text/x-python",
   "name": "python",
   "nbconvert_exporter": "python",
   "pygments_lexer": "ipython3",
   "version": "3.9.12"
  },
  "orig_nbformat": 4
 },
 "nbformat": 4,
 "nbformat_minor": 2
}
