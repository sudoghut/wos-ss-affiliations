{
 "cells": [
  {
   "cell_type": "code",
   "execution_count": 3,
   "metadata": {},
   "outputs": [
    {
     "name": "stdout",
     "output_type": "stream",
     "text": [
      "c:\\Users\\sudos\\Dropbox\\wos-ss-affiliations\\d1_keywords\\..\\seven_sons2013-2022.csv\n"
     ]
    },
    {
     "name": "stderr",
     "output_type": "stream",
     "text": [
      "c:\\Users\\sudos\\anaconda3\\lib\\site-packages\\IPython\\core\\interactiveshell.py:3505: DtypeWarning: Columns (7,11) have mixed types.Specify dtype option on import or set low_memory=False.\n",
      "  exec(code_obj, self.user_global_ns, self.user_ns)\n"
     ]
    },
    {
     "name": "stdout",
     "output_type": "stream",
     "text": [
      "0    Sommerfeld integral; method of moment; integra...\n",
      "1                                                  NaN\n",
      "2    highly conflicting information; back-propagati...\n",
      "3    Phase-sensitive optical frequency domain refle...\n",
      "4    vitronectin; neuron; neurodegenerative disease...\n",
      "Name: Author Keywords, dtype: object\n",
      "0      MEDIA GREENS-FUNCTIONS; LAYERED-MEDIA; CIRCUITS\n",
      "1               HALIDE-PEROVSKITE; STABILITY; DYNAMICS\n",
      "2              COMBINING BELIEF FUNCTIONS; COMBINATION\n",
      "3                         OPTICAL-FIBER; SENSOR; NOISE\n",
      "4    SMALL VESSEL DISEASE; INTEGRIN ALPHA(V)BETA(3)...\n",
      "Name: Keywords Plus, dtype: object\n"
     ]
    }
   ],
   "source": [
    "import pandas as pd\n",
    "import os\n",
    "\n",
    "input = os.path.join(os.getcwd(),\"..\",\"seven_sons2013-2022.csv\")\n",
    "print(input)\n",
    "input_pd = pd.read_csv(input, delimiter=\",\")\n",
    "\n",
    "print(input_pd[\"Author Keywords\"].head())\n",
    "\n",
    "print(input_pd[\"Keywords Plus\"].head())"
   ]
  },
  {
   "cell_type": "code",
   "execution_count": 6,
   "metadata": {},
   "outputs": [],
   "source": [
    "def save_freq_to_csv(input_pd, output_name):\n",
    "    keywords_list = []\n",
    "\n",
    "    for i in range(len(input_pd)):\n",
    "        if type(input_pd[i]) == str:\n",
    "            keywords_list.extend(input_pd[i].split(\";\"))\n",
    "\n",
    "    # strip the keywords, and use the initial letter as the capital letter\n",
    "    keywords_list = [keyword.strip().capitalize() for keyword in keywords_list]\n",
    "\n",
    "    # count the frequency of each keyword\n",
    "    keywords_count = pd.Series(keywords_list).value_counts()\n",
    "\n",
    "    # sort the keywords by frequency\n",
    "    keywords_count = keywords_count.sort_values(ascending=False)\n",
    "\n",
    "    # save the keywords and frequency to csv\n",
    "    keywords_count.to_csv(os.path.join(os.getcwd(), output_name), encoding=\"utf-8-sig\", header=[\"Frequency\"], index_label=\"Keywords\")"
   ]
  },
  {
   "cell_type": "code",
   "execution_count": 9,
   "metadata": {},
   "outputs": [],
   "source": [
    "save_freq_to_csv(input_pd[\"Author Keywords\"], \"author_keywords.csv\")\n",
    "save_freq_to_csv(input_pd[\"Keywords Plus\"], \"keywords_plus.csv\")"
   ]
  }
 ],
 "metadata": {
  "kernelspec": {
   "display_name": "base",
   "language": "python",
   "name": "python3"
  },
  "language_info": {
   "codemirror_mode": {
    "name": "ipython",
    "version": 3
   },
   "file_extension": ".py",
   "mimetype": "text/x-python",
   "name": "python",
   "nbconvert_exporter": "python",
   "pygments_lexer": "ipython3",
   "version": "3.9.17"
  },
  "orig_nbformat": 4
 },
 "nbformat": 4,
 "nbformat_minor": 2
}
